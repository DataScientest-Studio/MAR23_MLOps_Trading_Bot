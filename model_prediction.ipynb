{
 "cells": [
  {
   "cell_type": "code",
   "execution_count": 1,
   "id": "02e0d161",
   "metadata": {},
   "outputs": [],
   "source": [
    "from time import time\n",
    "from joblib import load\n",
    "import warnings\n",
    "warnings.filterwarnings(\"ignore\")\n",
    "\n",
    "from src.domain.utils.prediction import make_prediction"
   ]
  },
  {
   "cell_type": "code",
   "execution_count": 2,
   "id": "5894bfb1",
   "metadata": {},
   "outputs": [],
   "source": [
    "# Choose a list of tickers (if empty, predictions on entire environment)\n",
    "tickers = [\"AXP\", \"AMGN\"]\n",
    "\n",
    "# Choose a time horizon (1d, 1w, 2w, 1m)\n",
    "time_horizon = \"1m\"\n",
    "\n",
    "# Choose a trading style (among market, fundamental, market_and_fundamental)\n",
    "trading_type = \"market_and_fundamental\"\n",
    "\n",
    "# Model loading\n",
    "model = load(f'C:/Users/Julien/Documents/EI/Datascientest/MLOps/Projet/MAR23_MLOps_Trading_Bot/src/domain/trained_models/lgbm_{trading_type}_{time_horizon}.joblib') \n",
    "#model = load('/trained_models/lgbm_market_{time_horizon}.joblib') \n",
    "\n",
    "# We load label encoder for sector feature\n",
    "sector_encoder = load('C:/Users/Julien/Documents/EI/Datascientest/MLOps/Projet/MAR23_MLOps_Trading_Bot/src/domain/trained_models/label_encoder.joblib')"
   ]
  },
  {
   "cell_type": "code",
   "execution_count": 3,
   "id": "f919eef0",
   "metadata": {},
   "outputs": [
    {
     "data": {
      "text/plain": [
       "sklearn.preprocessing._label.LabelEncoder"
      ]
     },
     "execution_count": 3,
     "metadata": {},
     "output_type": "execute_result"
    }
   ],
   "source": [
    "type(sector_encoder)"
   ]
  },
  {
   "cell_type": "code",
   "execution_count": 4,
   "id": "273d6686",
   "metadata": {},
   "outputs": [
    {
     "name": "stdout",
     "output_type": "stream",
     "text": [
      "Prediction took: 36.34018898010254 s\n"
     ]
    }
   ],
   "source": [
    "start = time()\n",
    "predictions = make_prediction(model, sector_encoder, time_horizon, trading_type, tickers)\n",
    "end = time()\n",
    "print(f\"Prediction took: {end - start} s\")"
   ]
  },
  {
   "cell_type": "code",
   "execution_count": 5,
   "id": "f2d3d49d",
   "metadata": {},
   "outputs": [
    {
     "name": "stdout",
     "output_type": "stream",
     "text": [
      "\n",
      "AXP: 3.87%\n",
      "\n",
      "\n",
      "AMGN: -0.871%\n",
      "\n"
     ]
    }
   ],
   "source": [
    "for ticker, prediction in predictions.items():\n",
    "    print(f\"\\n{ticker}: {round(prediction*100,3)}%\\n\")"
   ]
  },
  {
   "cell_type": "code",
   "execution_count": null,
   "id": "27c2969c",
   "metadata": {},
   "outputs": [],
   "source": []
  }
 ],
 "metadata": {
  "kernelspec": {
   "display_name": "Python 3 (ipykernel)",
   "language": "python",
   "name": "python3"
  },
  "language_info": {
   "codemirror_mode": {
    "name": "ipython",
    "version": 3
   },
   "file_extension": ".py",
   "mimetype": "text/x-python",
   "name": "python",
   "nbconvert_exporter": "python",
   "pygments_lexer": "ipython3",
   "version": "3.9.5"
  }
 },
 "nbformat": 4,
 "nbformat_minor": 5
}
