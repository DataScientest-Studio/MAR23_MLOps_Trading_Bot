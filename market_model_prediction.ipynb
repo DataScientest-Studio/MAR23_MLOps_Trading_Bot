{
 "cells": [
  {
   "cell_type": "code",
   "execution_count": 33,
   "id": "02e0d161",
   "metadata": {},
   "outputs": [],
   "source": [
    "import numpy as np \n",
    "from utils.features_engineering import market_features_engineering\n",
    "from utils.fetch_market_data import fetch_stock\n",
    "from joblib import load"
   ]
  },
  {
   "cell_type": "code",
   "execution_count": 28,
   "id": "5894bfb1",
   "metadata": {},
   "outputs": [],
   "source": [
    "# Choose ticker\n",
    "ticker = \"TSLA\""
   ]
  },
  {
   "cell_type": "code",
   "execution_count": 29,
   "id": "f2d3d49d",
   "metadata": {},
   "outputs": [
    {
     "data": {
      "text/html": [
       "<div>\n",
       "<style scoped>\n",
       "    .dataframe tbody tr th:only-of-type {\n",
       "        vertical-align: middle;\n",
       "    }\n",
       "\n",
       "    .dataframe tbody tr th {\n",
       "        vertical-align: top;\n",
       "    }\n",
       "\n",
       "    .dataframe thead th {\n",
       "        text-align: right;\n",
       "    }\n",
       "</style>\n",
       "<table border=\"1\" class=\"dataframe\">\n",
       "  <thead>\n",
       "    <tr style=\"text-align: right;\">\n",
       "      <th></th>\n",
       "      <th>close</th>\n",
       "      <th>high</th>\n",
       "      <th>low</th>\n",
       "      <th>open</th>\n",
       "      <th>volume</th>\n",
       "      <th>divCash</th>\n",
       "    </tr>\n",
       "    <tr>\n",
       "      <th>date</th>\n",
       "      <th></th>\n",
       "      <th></th>\n",
       "      <th></th>\n",
       "      <th></th>\n",
       "      <th></th>\n",
       "      <th></th>\n",
       "    </tr>\n",
       "  </thead>\n",
       "  <tbody>\n",
       "    <tr>\n",
       "      <th>2022-10-24 00:00:00+00:00</th>\n",
       "      <td>211.250</td>\n",
       "      <td>213.5000</td>\n",
       "      <td>198.5863</td>\n",
       "      <td>205.82</td>\n",
       "      <td>100446765</td>\n",
       "      <td>0.0</td>\n",
       "    </tr>\n",
       "    <tr>\n",
       "      <th>2022-10-25 00:00:00+00:00</th>\n",
       "      <td>222.415</td>\n",
       "      <td>224.3498</td>\n",
       "      <td>210.0000</td>\n",
       "      <td>210.10</td>\n",
       "      <td>96507870</td>\n",
       "      <td>0.0</td>\n",
       "    </tr>\n",
       "    <tr>\n",
       "      <th>2022-10-26 00:00:00+00:00</th>\n",
       "      <td>224.640</td>\n",
       "      <td>230.6000</td>\n",
       "      <td>218.2000</td>\n",
       "      <td>219.40</td>\n",
       "      <td>85327078</td>\n",
       "      <td>0.0</td>\n",
       "    </tr>\n",
       "    <tr>\n",
       "      <th>2022-10-27 00:00:00+00:00</th>\n",
       "      <td>225.090</td>\n",
       "      <td>233.8100</td>\n",
       "      <td>222.8500</td>\n",
       "      <td>229.77</td>\n",
       "      <td>61638824</td>\n",
       "      <td>0.0</td>\n",
       "    </tr>\n",
       "    <tr>\n",
       "      <th>2022-10-28 00:00:00+00:00</th>\n",
       "      <td>228.520</td>\n",
       "      <td>228.8600</td>\n",
       "      <td>216.3500</td>\n",
       "      <td>225.40</td>\n",
       "      <td>69152386</td>\n",
       "      <td>0.0</td>\n",
       "    </tr>\n",
       "    <tr>\n",
       "      <th>...</th>\n",
       "      <td>...</td>\n",
       "      <td>...</td>\n",
       "      <td>...</td>\n",
       "      <td>...</td>\n",
       "      <td>...</td>\n",
       "      <td>...</td>\n",
       "    </tr>\n",
       "    <tr>\n",
       "      <th>2023-05-05 00:00:00+00:00</th>\n",
       "      <td>170.060</td>\n",
       "      <td>170.7899</td>\n",
       "      <td>163.5100</td>\n",
       "      <td>163.97</td>\n",
       "      <td>107607259</td>\n",
       "      <td>0.0</td>\n",
       "    </tr>\n",
       "    <tr>\n",
       "      <th>2023-05-08 00:00:00+00:00</th>\n",
       "      <td>171.790</td>\n",
       "      <td>173.8000</td>\n",
       "      <td>169.1900</td>\n",
       "      <td>173.72</td>\n",
       "      <td>112249449</td>\n",
       "      <td>0.0</td>\n",
       "    </tr>\n",
       "    <tr>\n",
       "      <th>2023-05-09 00:00:00+00:00</th>\n",
       "      <td>169.150</td>\n",
       "      <td>169.8200</td>\n",
       "      <td>166.5600</td>\n",
       "      <td>168.95</td>\n",
       "      <td>88965043</td>\n",
       "      <td>0.0</td>\n",
       "    </tr>\n",
       "    <tr>\n",
       "      <th>2023-05-10 00:00:00+00:00</th>\n",
       "      <td>168.540</td>\n",
       "      <td>174.4300</td>\n",
       "      <td>166.6800</td>\n",
       "      <td>172.55</td>\n",
       "      <td>119840693</td>\n",
       "      <td>0.0</td>\n",
       "    </tr>\n",
       "    <tr>\n",
       "      <th>2023-05-11 00:00:00+00:00</th>\n",
       "      <td>172.080</td>\n",
       "      <td>173.5700</td>\n",
       "      <td>166.7900</td>\n",
       "      <td>168.70</td>\n",
       "      <td>103889930</td>\n",
       "      <td>0.0</td>\n",
       "    </tr>\n",
       "  </tbody>\n",
       "</table>\n",
       "<p>138 rows × 6 columns</p>\n",
       "</div>"
      ],
      "text/plain": [
       "                             close      high       low    open     volume  \\\n",
       "date                                                                        \n",
       "2022-10-24 00:00:00+00:00  211.250  213.5000  198.5863  205.82  100446765   \n",
       "2022-10-25 00:00:00+00:00  222.415  224.3498  210.0000  210.10   96507870   \n",
       "2022-10-26 00:00:00+00:00  224.640  230.6000  218.2000  219.40   85327078   \n",
       "2022-10-27 00:00:00+00:00  225.090  233.8100  222.8500  229.77   61638824   \n",
       "2022-10-28 00:00:00+00:00  228.520  228.8600  216.3500  225.40   69152386   \n",
       "...                            ...       ...       ...     ...        ...   \n",
       "2023-05-05 00:00:00+00:00  170.060  170.7899  163.5100  163.97  107607259   \n",
       "2023-05-08 00:00:00+00:00  171.790  173.8000  169.1900  173.72  112249449   \n",
       "2023-05-09 00:00:00+00:00  169.150  169.8200  166.5600  168.95   88965043   \n",
       "2023-05-10 00:00:00+00:00  168.540  174.4300  166.6800  172.55  119840693   \n",
       "2023-05-11 00:00:00+00:00  172.080  173.5700  166.7900  168.70  103889930   \n",
       "\n",
       "                           divCash  \n",
       "date                                \n",
       "2022-10-24 00:00:00+00:00      0.0  \n",
       "2022-10-25 00:00:00+00:00      0.0  \n",
       "2022-10-26 00:00:00+00:00      0.0  \n",
       "2022-10-27 00:00:00+00:00      0.0  \n",
       "2022-10-28 00:00:00+00:00      0.0  \n",
       "...                            ...  \n",
       "2023-05-05 00:00:00+00:00      0.0  \n",
       "2023-05-08 00:00:00+00:00      0.0  \n",
       "2023-05-09 00:00:00+00:00      0.0  \n",
       "2023-05-10 00:00:00+00:00      0.0  \n",
       "2023-05-11 00:00:00+00:00      0.0  \n",
       "\n",
       "[138 rows x 6 columns]"
      ]
     },
     "execution_count": 29,
     "metadata": {},
     "output_type": "execute_result"
    }
   ],
   "source": [
    "# Get at least 100 days of market data to compute features (for MA_100)\n",
    "histo = fetch_stock(ticker)\n",
    "histo"
   ]
  },
  {
   "cell_type": "code",
   "execution_count": 37,
   "id": "507dc571",
   "metadata": {},
   "outputs": [
    {
     "data": {
      "text/plain": [
       "date\n",
       "2022-10-24 00:00:00+00:00         NaN\n",
       "2022-10-25 00:00:00+00:00         NaN\n",
       "2022-10-26 00:00:00+00:00         NaN\n",
       "2022-10-27 00:00:00+00:00         NaN\n",
       "2022-10-28 00:00:00+00:00         NaN\n",
       "                               ...   \n",
       "2023-05-05 00:00:00+00:00   -0.087011\n",
       "2023-05-08 00:00:00+00:00   -0.074407\n",
       "2023-05-09 00:00:00+00:00   -0.086918\n",
       "2023-05-10 00:00:00+00:00   -0.102812\n",
       "2023-05-11 00:00:00+00:00   -0.047993\n",
       "Name: return_1m, Length: 138, dtype: float64"
      ]
     },
     "execution_count": 37,
     "metadata": {},
     "output_type": "execute_result"
    }
   ],
   "source": [
    "X = market_features_engineering(histo)\n",
    "X[\"return_1m\"]"
   ]
  },
  {
   "cell_type": "code",
   "execution_count": 14,
   "id": "9adefd6e",
   "metadata": {
    "scrolled": true
   },
   "outputs": [],
   "source": [
    "model = load('C:/Users/Julien/Documents/EI/Datascientest/MLOps/Projet/MAR23_MLOps_Trading_Bot/trained_models/lgbm_market_1d.joblib') \n",
    "# model = load('/lgbm_market_1d.joblib') "
   ]
  },
  {
   "cell_type": "code",
   "execution_count": 23,
   "id": "e5a31000",
   "metadata": {},
   "outputs": [
    {
     "ename": "ValueError",
     "evalue": "Number of features of the model must match the input. Model n_features_ is 23 and input n_features is 22",
     "output_type": "error",
     "traceback": [
      "\u001b[1;31m---------------------------------------------------------------------------\u001b[0m",
      "\u001b[1;31mValueError\u001b[0m                                Traceback (most recent call last)",
      "\u001b[1;32m~\\AppData\\Local\\Temp\\ipykernel_9372\\1450066261.py\u001b[0m in \u001b[0;36m<module>\u001b[1;34m\u001b[0m\n\u001b[1;32m----> 1\u001b[1;33m \u001b[0mmodel\u001b[0m\u001b[1;33m.\u001b[0m\u001b[0mpredict\u001b[0m\u001b[1;33m(\u001b[0m\u001b[0mnp\u001b[0m\u001b[1;33m.\u001b[0m\u001b[0marray\u001b[0m\u001b[1;33m(\u001b[0m\u001b[0mX\u001b[0m\u001b[1;33m.\u001b[0m\u001b[0miloc\u001b[0m\u001b[1;33m[\u001b[0m\u001b[1;33m-\u001b[0m\u001b[1;36m1\u001b[0m\u001b[1;33m]\u001b[0m\u001b[1;33m)\u001b[0m\u001b[1;33m.\u001b[0m\u001b[0mreshape\u001b[0m\u001b[1;33m(\u001b[0m\u001b[1;36m1\u001b[0m\u001b[1;33m,\u001b[0m \u001b[1;33m-\u001b[0m\u001b[1;36m1\u001b[0m\u001b[1;33m)\u001b[0m\u001b[1;33m)\u001b[0m\u001b[1;33m\u001b[0m\u001b[1;33m\u001b[0m\u001b[0m\n\u001b[0m",
      "\u001b[1;32m~\\miniconda3\\lib\\site-packages\\lightgbm\\sklearn.py\u001b[0m in \u001b[0;36mpredict\u001b[1;34m(self, X, raw_score, start_iteration, num_iteration, pred_leaf, pred_contrib, **kwargs)\u001b[0m\n\u001b[0;32m    798\u001b[0m         \u001b[0mn_features\u001b[0m \u001b[1;33m=\u001b[0m \u001b[0mX\u001b[0m\u001b[1;33m.\u001b[0m\u001b[0mshape\u001b[0m\u001b[1;33m[\u001b[0m\u001b[1;36m1\u001b[0m\u001b[1;33m]\u001b[0m\u001b[1;33m\u001b[0m\u001b[1;33m\u001b[0m\u001b[0m\n\u001b[0;32m    799\u001b[0m         \u001b[1;32mif\u001b[0m \u001b[0mself\u001b[0m\u001b[1;33m.\u001b[0m\u001b[0m_n_features\u001b[0m \u001b[1;33m!=\u001b[0m \u001b[0mn_features\u001b[0m\u001b[1;33m:\u001b[0m\u001b[1;33m\u001b[0m\u001b[1;33m\u001b[0m\u001b[0m\n\u001b[1;32m--> 800\u001b[1;33m             raise ValueError(\"Number of features of the model must \"\n\u001b[0m\u001b[0;32m    801\u001b[0m                              \u001b[1;34mf\"match the input. Model n_features_ is {self._n_features} and \"\u001b[0m\u001b[1;33m\u001b[0m\u001b[1;33m\u001b[0m\u001b[0m\n\u001b[0;32m    802\u001b[0m                              f\"input n_features is {n_features}\")\n",
      "\u001b[1;31mValueError\u001b[0m: Number of features of the model must match the input. Model n_features_ is 23 and input n_features is 22"
     ]
    }
   ],
   "source": [
    "model.predict(np.array(X.iloc[-1]).reshape(1, -1))"
   ]
  },
  {
   "cell_type": "code",
   "execution_count": null,
   "id": "7af20946",
   "metadata": {},
   "outputs": [],
   "source": []
  }
 ],
 "metadata": {
  "kernelspec": {
   "display_name": "Python 3 (ipykernel)",
   "language": "python",
   "name": "python3"
  },
  "language_info": {
   "codemirror_mode": {
    "name": "ipython",
    "version": 3
   },
   "file_extension": ".py",
   "mimetype": "text/x-python",
   "name": "python",
   "nbconvert_exporter": "python",
   "pygments_lexer": "ipython3",
   "version": "3.9.5"
  }
 },
 "nbformat": 4,
 "nbformat_minor": 5
}
